# import numpy as np
# import matplotlib.pyplot as plt
import skimage as sk
# from skimage.io import imread, imshow

import numpy as np
import matplotlib.pyplot as plt
from matplotlib.patches import Rectangle
from skimage import img_as_ubyte

# lily = img = imread('lily.jpg')
lily = sk.io.imread('lily.jpg')
 
def white_patch(image, percentile=100):
    """
    White balance image using White patch algorithm
    Parameters
    ----------
    image : numpy array
            Image to white balance
    percentile : integer, optional
                  Percentile value to consider as channel maximum
    Returns
    -------
    image_wb : numpy array
               White-balanced image
    """
    white_patch_image = img_as_ubyte((image*1.0 / 
                                   np.percentile(image,percentile,
                                   axis=(0, 1))).clip(0, 1))
    return white_patch_image
#call the function to implement white patch algorithm
sk.io.imshow(white_patch(lily, 85))