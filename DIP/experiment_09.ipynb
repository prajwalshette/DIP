{
 "cells": [
  {
   "cell_type": "code",
   "execution_count": 16,
   "metadata": {},
   "outputs": [
    {
     "ename": "IndexError",
     "evalue": "cannot do a non-empty take from an empty axes.",
     "output_type": "error",
     "traceback": [
      "\u001b[1;31m---------------------------------------------------------------------------\u001b[0m",
      "\u001b[1;31mIndexError\u001b[0m                                Traceback (most recent call last)",
      "\u001b[1;32mc:\\Users\\prajw\\Downloads\\prajwal13\\DIP\\experiment_09.ipynb Cell 1\u001b[0m in \u001b[0;36m<cell line: 10>\u001b[1;34m()\u001b[0m\n\u001b[0;32m      <a href='vscode-notebook-cell:/c%3A/Users/prajw/Downloads/prajwal13/DIP/experiment_09.ipynb#W0sZmlsZQ%3D%3D?line=5'>6</a>\u001b[0m grayA\u001b[39m=\u001b[39mcv2\u001b[39m.\u001b[39mimread(\u001b[39m'\u001b[39m\u001b[39mimg1.jpg\u001b[39m\u001b[39m'\u001b[39m)\n\u001b[0;32m      <a href='vscode-notebook-cell:/c%3A/Users/prajw/Downloads/prajwal13/DIP/experiment_09.ipynb#W0sZmlsZQ%3D%3D?line=6'>7</a>\u001b[0m grayB\u001b[39m=\u001b[39mcv2\u001b[39m.\u001b[39mimread(\u001b[39m'\u001b[39m\u001b[39mimg2.jpg\u001b[39m\u001b[39m'\u001b[39m)\n\u001b[1;32m---> <a href='vscode-notebook-cell:/c%3A/Users/prajw/Downloads/prajwal13/DIP/experiment_09.ipynb#W0sZmlsZQ%3D%3D?line=9'>10</a>\u001b[0m f\u001b[39m=\u001b[39m np\u001b[39m.\u001b[39;49mfft\u001b[39m.\u001b[39;49mfft2(grayA)\n\u001b[0;32m     <a href='vscode-notebook-cell:/c%3A/Users/prajw/Downloads/prajwal13/DIP/experiment_09.ipynb#W0sZmlsZQ%3D%3D?line=10'>11</a>\u001b[0m fshift1 \u001b[39m=\u001b[39m np\u001b[39m.\u001b[39mfft\u001b[39m.\u001b[39mfftshift(f)\n\u001b[0;32m     <a href='vscode-notebook-cell:/c%3A/Users/prajw/Downloads/prajwal13/DIP/experiment_09.ipynb#W0sZmlsZQ%3D%3D?line=11'>12</a>\u001b[0m phase_spectrumA \u001b[39m=\u001b[39m np\u001b[39m.\u001b[39mangle(fshift1)\n",
      "File \u001b[1;32m<__array_function__ internals>:180\u001b[0m, in \u001b[0;36mfft2\u001b[1;34m(*args, **kwargs)\u001b[0m\n",
      "File \u001b[1;32mc:\\Users\\prajw\\AppData\\Local\\Programs\\Python\\Python310\\lib\\site-packages\\numpy\\fft\\_pocketfft.py:1014\u001b[0m, in \u001b[0;36mfft2\u001b[1;34m(a, s, axes, norm)\u001b[0m\n\u001b[0;32m    921\u001b[0m \u001b[39m@array_function_dispatch\u001b[39m(_fftn_dispatcher)\n\u001b[0;32m    922\u001b[0m \u001b[39mdef\u001b[39;00m \u001b[39mfft2\u001b[39m(a, s\u001b[39m=\u001b[39m\u001b[39mNone\u001b[39;00m, axes\u001b[39m=\u001b[39m(\u001b[39m-\u001b[39m\u001b[39m2\u001b[39m, \u001b[39m-\u001b[39m\u001b[39m1\u001b[39m), norm\u001b[39m=\u001b[39m\u001b[39mNone\u001b[39;00m):\n\u001b[0;32m    923\u001b[0m     \u001b[39m\"\"\"\u001b[39;00m\n\u001b[0;32m    924\u001b[0m \u001b[39m    Compute the 2-dimensional discrete Fourier Transform.\u001b[39;00m\n\u001b[0;32m    925\u001b[0m \n\u001b[1;32m   (...)\u001b[0m\n\u001b[0;32m   1012\u001b[0m \n\u001b[0;32m   1013\u001b[0m \u001b[39m    \"\"\"\u001b[39;00m\n\u001b[1;32m-> 1014\u001b[0m     \u001b[39mreturn\u001b[39;00m _raw_fftnd(a, s, axes, fft, norm)\n",
      "File \u001b[1;32mc:\\Users\\prajw\\AppData\\Local\\Programs\\Python\\Python310\\lib\\site-packages\\numpy\\fft\\_pocketfft.py:703\u001b[0m, in \u001b[0;36m_raw_fftnd\u001b[1;34m(a, s, axes, function, norm)\u001b[0m\n\u001b[0;32m    701\u001b[0m \u001b[39mdef\u001b[39;00m \u001b[39m_raw_fftnd\u001b[39m(a, s\u001b[39m=\u001b[39m\u001b[39mNone\u001b[39;00m, axes\u001b[39m=\u001b[39m\u001b[39mNone\u001b[39;00m, function\u001b[39m=\u001b[39mfft, norm\u001b[39m=\u001b[39m\u001b[39mNone\u001b[39;00m):\n\u001b[0;32m    702\u001b[0m     a \u001b[39m=\u001b[39m asarray(a)\n\u001b[1;32m--> 703\u001b[0m     s, axes \u001b[39m=\u001b[39m _cook_nd_args(a, s, axes)\n\u001b[0;32m    704\u001b[0m     itl \u001b[39m=\u001b[39m \u001b[39mlist\u001b[39m(\u001b[39mrange\u001b[39m(\u001b[39mlen\u001b[39m(axes)))\n\u001b[0;32m    705\u001b[0m     itl\u001b[39m.\u001b[39mreverse()\n",
      "File \u001b[1;32mc:\\Users\\prajw\\AppData\\Local\\Programs\\Python\\Python310\\lib\\site-packages\\numpy\\fft\\_pocketfft.py:688\u001b[0m, in \u001b[0;36m_cook_nd_args\u001b[1;34m(a, s, axes, invreal)\u001b[0m\n\u001b[0;32m    686\u001b[0m         s \u001b[39m=\u001b[39m \u001b[39mlist\u001b[39m(a\u001b[39m.\u001b[39mshape)\n\u001b[0;32m    687\u001b[0m     \u001b[39melse\u001b[39;00m:\n\u001b[1;32m--> 688\u001b[0m         s \u001b[39m=\u001b[39m take(a\u001b[39m.\u001b[39;49mshape, axes)\n\u001b[0;32m    689\u001b[0m \u001b[39melse\u001b[39;00m:\n\u001b[0;32m    690\u001b[0m     shapeless \u001b[39m=\u001b[39m \u001b[39m0\u001b[39m\n",
      "File \u001b[1;32m<__array_function__ internals>:180\u001b[0m, in \u001b[0;36mtake\u001b[1;34m(*args, **kwargs)\u001b[0m\n",
      "File \u001b[1;32mc:\\Users\\prajw\\AppData\\Local\\Programs\\Python\\Python310\\lib\\site-packages\\numpy\\core\\fromnumeric.py:190\u001b[0m, in \u001b[0;36mtake\u001b[1;34m(a, indices, axis, out, mode)\u001b[0m\n\u001b[0;32m     93\u001b[0m \u001b[39m@array_function_dispatch\u001b[39m(_take_dispatcher)\n\u001b[0;32m     94\u001b[0m \u001b[39mdef\u001b[39;00m \u001b[39mtake\u001b[39m(a, indices, axis\u001b[39m=\u001b[39m\u001b[39mNone\u001b[39;00m, out\u001b[39m=\u001b[39m\u001b[39mNone\u001b[39;00m, mode\u001b[39m=\u001b[39m\u001b[39m'\u001b[39m\u001b[39mraise\u001b[39m\u001b[39m'\u001b[39m):\n\u001b[0;32m     95\u001b[0m     \u001b[39m\"\"\"\u001b[39;00m\n\u001b[0;32m     96\u001b[0m \u001b[39m    Take elements from an array along an axis.\u001b[39;00m\n\u001b[0;32m     97\u001b[0m \n\u001b[1;32m   (...)\u001b[0m\n\u001b[0;32m    188\u001b[0m \u001b[39m           [5, 7]])\u001b[39;00m\n\u001b[0;32m    189\u001b[0m \u001b[39m    \"\"\"\u001b[39;00m\n\u001b[1;32m--> 190\u001b[0m     \u001b[39mreturn\u001b[39;00m _wrapfunc(a, \u001b[39m'\u001b[39;49m\u001b[39mtake\u001b[39;49m\u001b[39m'\u001b[39;49m, indices, axis\u001b[39m=\u001b[39;49maxis, out\u001b[39m=\u001b[39;49mout, mode\u001b[39m=\u001b[39;49mmode)\n",
      "File \u001b[1;32mc:\\Users\\prajw\\AppData\\Local\\Programs\\Python\\Python310\\lib\\site-packages\\numpy\\core\\fromnumeric.py:54\u001b[0m, in \u001b[0;36m_wrapfunc\u001b[1;34m(obj, method, *args, **kwds)\u001b[0m\n\u001b[0;32m     52\u001b[0m bound \u001b[39m=\u001b[39m \u001b[39mgetattr\u001b[39m(obj, method, \u001b[39mNone\u001b[39;00m)\n\u001b[0;32m     53\u001b[0m \u001b[39mif\u001b[39;00m bound \u001b[39mis\u001b[39;00m \u001b[39mNone\u001b[39;00m:\n\u001b[1;32m---> 54\u001b[0m     \u001b[39mreturn\u001b[39;00m _wrapit(obj, method, \u001b[39m*\u001b[39margs, \u001b[39m*\u001b[39m\u001b[39m*\u001b[39mkwds)\n\u001b[0;32m     56\u001b[0m \u001b[39mtry\u001b[39;00m:\n\u001b[0;32m     57\u001b[0m     \u001b[39mreturn\u001b[39;00m bound(\u001b[39m*\u001b[39margs, \u001b[39m*\u001b[39m\u001b[39m*\u001b[39mkwds)\n",
      "File \u001b[1;32mc:\\Users\\prajw\\AppData\\Local\\Programs\\Python\\Python310\\lib\\site-packages\\numpy\\core\\fromnumeric.py:43\u001b[0m, in \u001b[0;36m_wrapit\u001b[1;34m(obj, method, *args, **kwds)\u001b[0m\n\u001b[0;32m     41\u001b[0m \u001b[39mexcept\u001b[39;00m \u001b[39mAttributeError\u001b[39;00m:\n\u001b[0;32m     42\u001b[0m     wrap \u001b[39m=\u001b[39m \u001b[39mNone\u001b[39;00m\n\u001b[1;32m---> 43\u001b[0m result \u001b[39m=\u001b[39m \u001b[39mgetattr\u001b[39m(asarray(obj), method)(\u001b[39m*\u001b[39margs, \u001b[39m*\u001b[39m\u001b[39m*\u001b[39mkwds)\n\u001b[0;32m     44\u001b[0m \u001b[39mif\u001b[39;00m wrap:\n\u001b[0;32m     45\u001b[0m     \u001b[39mif\u001b[39;00m \u001b[39mnot\u001b[39;00m \u001b[39misinstance\u001b[39m(result, mu\u001b[39m.\u001b[39mndarray):\n",
      "\u001b[1;31mIndexError\u001b[0m: cannot do a non-empty take from an empty axes."
     ]
    }
   ],
   "source": [
    "import matplotlib.pyplot as plt \n",
    "import numpy as np \n",
    "import cv2 \n",
    "import math \n",
    "\n",
    "grayA=cv2.imread('img1.jpg')\n",
    "grayB=cv2.imread('img2.jpg')\n",
    " \n",
    "\n",
    "f= np.fft.fft2(grayA)\n",
    "fshift1 = np.fft.fftshift(f)\n",
    "phase_spectrumA = np.angle(fshift1)\n",
    "magnitude_spectrumA = 20*np.log(np.abs(fshift1))\n",
    "\n",
    "f2 = np.fft.fft2(grayB)\n",
    "fshift2 = np.fft.fftshift(f2)\n",
    "phase_spectrumB = np.angle(fshift2)\n",
    "magnitude_spectrumB = 20*np.log(np.abs(fshift2)) \n",
    "\n",
    "\n",
    "combined1 = np.multiply(phase_spectrumA, magnitude_spectrumB)\n",
    "imgCombined = np.real(np.fft.ifft2(combined1))\n",
    "plt.subplot(2,2,1)\n",
    "plt.imshow(imgCombined,cmap='gray')\n",
    "\n",
    "combined2 = np.multiply(phase_spectrumB, magnitude_spectrumA)\n",
    "imgCombined2 = np.real(np.fft.ifft2(combined2))\n",
    "plt.subplot(2,2,1)\n",
    "plt.imshow(imgCombined2,cmap='gray')\n",
    "\n",
    "# plt.imshow(imgCombined, cmap='gray')"
   ]
  },
  {
   "cell_type": "markdown",
   "metadata": {},
   "source": []
  }
 ],
 "metadata": {
  "kernelspec": {
   "display_name": "Python 3.10.4 64-bit",
   "language": "python",
   "name": "python3"
  },
  "language_info": {
   "codemirror_mode": {
    "name": "ipython",
    "version": 3
   },
   "file_extension": ".py",
   "mimetype": "text/x-python",
   "name": "python",
   "nbconvert_exporter": "python",
   "pygments_lexer": "ipython3",
   "version": "3.10.4"
  },
  "orig_nbformat": 4,
  "vscode": {
   "interpreter": {
    "hash": "1fe1b6c758a592bf79ec73e02cae157f8d87321994a47aea88849f7db61ef596"
   }
  }
 },
 "nbformat": 4,
 "nbformat_minor": 2
}
